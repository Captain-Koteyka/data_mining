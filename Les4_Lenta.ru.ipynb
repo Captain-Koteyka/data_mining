{
 "cells": [
  {
   "cell_type": "code",
   "execution_count": 8,
   "metadata": {},
   "outputs": [],
   "source": [
    "from lxml import html\n",
    "from pprint import pprint\n",
    "import requests\n",
    "from pymongo import MongoClient\n",
    "headers = {'User-Agent':'Mozilla/5.0 (Windows NT 10.0; Win64; x64) AppleWebKit/537.36 (KHTML, like Gecko) Chrome/86.0.4240.198 Safari/537.36'}"
   ]
  },
  {
   "cell_type": "code",
   "execution_count": 2,
   "metadata": {},
   "outputs": [],
   "source": [
    "main_link = 'https://lenta.ru/'\n",
    "response = requests.get(main_link, headers=headers)\n",
    "dom = html.fromstring(response.text)"
   ]
  },
  {
   "cell_type": "code",
   "execution_count": 3,
   "metadata": {},
   "outputs": [],
   "source": [
    "news = dom.xpath(\"//time[@class='g-time']/..\")\n",
    "news_list = []"
   ]
  },
  {
   "cell_type": "code",
   "execution_count": 5,
   "metadata": {
    "scrolled": true
   },
   "outputs": [
    {
     "name": "stdout",
     "output_type": "stream",
     "text": [
      "[{'links': 'lenta.ru/news/2020/11/18/dolgo/',\n",
      "  'name': 'Путин остался недоволен 48-часовым тестированием на коронавирус',\n",
      "  'publication_date': [' 14:38, 18 ноября 2020'],\n",
      "  'source_name': 'lenta.ru'},\n",
      " {'links': 'lenta.ru/news/2020/11/18/medal/',\n",
      "  'name': 'Президент Армении наградил экипаж сбитого российского вертолета',\n",
      "  'publication_date': [' 15:28, 18 ноября 2020'],\n",
      "  'source_name': 'lenta.ru'},\n",
      " {'links': 'lenta.ru/news/2020/11/18/mini_dom/',\n",
      "  'name': 'Российским дольщикам построили частный дом вместо многоэтажки',\n",
      "  'publication_date': [' 15:26, 18 ноября 2020'],\n",
      "  'source_name': 'lenta.ru'},\n",
      " {'links': 'lenta.ru/news/2020/11/18/uncle_khabib/',\n",
      "  'name': 'Дядя Нурмагомедова объяснил желание вернуть бойца в спорт',\n",
      "  'publication_date': [' 15:25, 18 ноября 2020'],\n",
      "  'source_name': 'lenta.ru'},\n",
      " {'links': 'lenta.ru/news/2020/11/18/posle_privivki/',\n",
      "  'name': 'Число заразившихся коронавирусом после вакцины «Спутник V» медиков '\n",
      "          'выросло до 10',\n",
      "  'publication_date': [' 15:20, 18 ноября 2020'],\n",
      "  'source_name': 'lenta.ru'},\n",
      " {'links': 'lenta.ru/news/2020/11/18/lozakhvatit/',\n",
      "  'name': 'Лоза объяснил подачу иска к Шнурову инициативой его юриста',\n",
      "  'publication_date': [' 15:19, 18 ноября 2020'],\n",
      "  'source_name': 'lenta.ru'},\n",
      " {'links': 'lenta.ru/news/2020/11/18/auditor/',\n",
      "  'name': 'Аудитора Счетной палаты Меня задержали по делу о хищении 700 '\n",
      "          'миллионов рублей',\n",
      "  'publication_date': [' 15:18, 18 ноября 2020'],\n",
      "  'source_name': 'lenta.ru'},\n",
      " {'links': 'lenta.ru/news/2020/11/18/girl/',\n",
      "  'name': 'Школьница спасла двухлетнего племянника из охваченной пламенем '\n",
      "          'машины',\n",
      "  'publication_date': [' 15:14, 18 ноября 2020'],\n",
      "  'source_name': 'lenta.ru'},\n",
      " {'links': 'lenta.ru/news/2020/11/18/splochenie/',\n",
      "  'name': 'США потратят 2 миллиона долларов на сплочение беженцев с Донбасса',\n",
      "  'publication_date': [' 15:14, 18 ноября 2020'],\n",
      "  'source_name': 'lenta.ru'},\n",
      " {'links': 'lenta.ru/news/2020/11/18/zochem/',\n",
      "  'name': 'Девушка вышла замуж за брата и нашла этому необычное объяснение',\n",
      "  'publication_date': [' 15:10, 18 ноября 2020'],\n",
      "  'source_name': 'lenta.ru'},\n",
      " {'links': 'lenta.ru/news/2020/11/18/dolgo/',\n",
      "  'name': 'Путин остался недоволен 48-часовым тестированием на коронавирус',\n",
      "  'publication_date': ' 14:38, 18 ноября 2020',\n",
      "  'source_name': 'lenta.ru'},\n",
      " {'links': 'lenta.ru/news/2020/11/18/medal/',\n",
      "  'name': 'Президент Армении наградил экипаж сбитого российского вертолета',\n",
      "  'publication_date': ' 15:28, 18 ноября 2020',\n",
      "  'source_name': 'lenta.ru'},\n",
      " {'links': 'lenta.ru/news/2020/11/18/mini_dom/',\n",
      "  'name': 'Российским дольщикам построили частный дом вместо многоэтажки',\n",
      "  'publication_date': ' 15:26, 18 ноября 2020',\n",
      "  'source_name': 'lenta.ru'},\n",
      " {'links': 'lenta.ru/news/2020/11/18/uncle_khabib/',\n",
      "  'name': 'Дядя Нурмагомедова объяснил желание вернуть бойца в спорт',\n",
      "  'publication_date': ' 15:25, 18 ноября 2020',\n",
      "  'source_name': 'lenta.ru'},\n",
      " {'links': 'lenta.ru/news/2020/11/18/posle_privivki/',\n",
      "  'name': 'Число заразившихся коронавирусом после вакцины «Спутник V» медиков '\n",
      "          'выросло до 10',\n",
      "  'publication_date': ' 15:20, 18 ноября 2020',\n",
      "  'source_name': 'lenta.ru'},\n",
      " {'links': 'lenta.ru/news/2020/11/18/lozakhvatit/',\n",
      "  'name': 'Лоза объяснил подачу иска к Шнурову инициативой его юриста',\n",
      "  'publication_date': ' 15:19, 18 ноября 2020',\n",
      "  'source_name': 'lenta.ru'},\n",
      " {'links': 'lenta.ru/news/2020/11/18/auditor/',\n",
      "  'name': 'Аудитора Счетной палаты Меня задержали по делу о хищении 700 '\n",
      "          'миллионов рублей',\n",
      "  'publication_date': ' 15:18, 18 ноября 2020',\n",
      "  'source_name': 'lenta.ru'},\n",
      " {'links': 'lenta.ru/news/2020/11/18/girl/',\n",
      "  'name': 'Школьница спасла двухлетнего племянника из охваченной пламенем '\n",
      "          'машины',\n",
      "  'publication_date': ' 15:14, 18 ноября 2020',\n",
      "  'source_name': 'lenta.ru'},\n",
      " {'links': 'lenta.ru/news/2020/11/18/splochenie/',\n",
      "  'name': 'США потратят 2 миллиона долларов на сплочение беженцев с Донбасса',\n",
      "  'publication_date': ' 15:14, 18 ноября 2020',\n",
      "  'source_name': 'lenta.ru'},\n",
      " {'links': 'lenta.ru/news/2020/11/18/zochem/',\n",
      "  'name': 'Девушка вышла замуж за брата и нашла этому необычное объяснение',\n",
      "  'publication_date': ' 15:10, 18 ноября 2020',\n",
      "  'source_name': 'lenta.ru'}]\n"
     ]
    }
   ],
   "source": [
    "for n in news:\n",
    "    n_dict = {}\n",
    "    source_name = 'lenta.ru'\n",
    "    name = n.xpath(\".//time[@class='g-time']/../text()\")\n",
    "    links = n.xpath(\".//time[@class='g-time']/../@href\")\n",
    "    publication_date = n.xpath(\".//time[@class='g-time']/@datetime\")\n",
    "    \n",
    "    n_dict['source_name'] = source_name\n",
    "    n_dict['name'] = name[0].replace('\\xa0', ' ')\n",
    "    n_dict['links'] = source_name + links[0]\n",
    "    n_dict['publication_date'] = publication_date[0]\n",
    "    \n",
    "    news_list.append(n_dict)\n",
    "pprint(news_list)"
   ]
  },
  {
   "cell_type": "code",
   "execution_count": null,
   "metadata": {},
   "outputs": [],
   "source": [
    "client = MongoClient('127.0.0.1', 27017)\n",
    "db = client['Lenta.ru_news']\n",
    "news_collection = db.news_collection\n",
    "news_collection.insert_many(news_list)"
   ]
  }
 ],
 "metadata": {
  "kernelspec": {
   "display_name": "Python 3",
   "language": "python",
   "name": "python3"
  },
  "language_info": {
   "codemirror_mode": {
    "name": "ipython",
    "version": 3
   },
   "file_extension": ".py",
   "mimetype": "text/x-python",
   "name": "python",
   "nbconvert_exporter": "python",
   "pygments_lexer": "ipython3",
   "version": "3.7.6"
  }
 },
 "nbformat": 4,
 "nbformat_minor": 4
}
