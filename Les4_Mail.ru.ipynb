{
 "cells": [
  {
   "cell_type": "code",
   "execution_count": 1,
   "metadata": {},
   "outputs": [],
   "source": [
    "from lxml import html\n",
    "from pprint import pprint\n",
    "import requests\n",
    "from pymongo import MongoClient\n",
    "headers = {'User-Agent':'Mozilla/5.0 (Windows NT 10.0; Win64; x64) AppleWebKit/537.36 (KHTML, like Gecko) Chrome/86.0.4240.198 Safari/537.36'}"
   ]
  },
  {
   "cell_type": "code",
   "execution_count": 2,
   "metadata": {},
   "outputs": [],
   "source": [
    "main_link = 'https://news.mail.ru/inregions/moscow/90/'\n",
    "response = requests.get(main_link, headers=headers)\n",
    "dom = html.fromstring(response.text)"
   ]
  },
  {
   "cell_type": "code",
   "execution_count": 3,
   "metadata": {},
   "outputs": [],
   "source": [
    "links = dom.xpath('//span[@class=\"photo__title photo__title_new photo__title_new_hidden js-topnews__notification\"]/../../@href')[:3]"
   ]
  },
  {
   "cell_type": "code",
   "execution_count": 4,
   "metadata": {},
   "outputs": [],
   "source": [
    "links2 = dom.xpath('//a[@class=\"list__text\"]/@href')[:6]"
   ]
  },
  {
   "cell_type": "code",
   "execution_count": 5,
   "metadata": {},
   "outputs": [],
   "source": [
    "for link in links2:\n",
    "    links.append(link)"
   ]
  },
  {
   "cell_type": "code",
   "execution_count": 6,
   "metadata": {},
   "outputs": [
    {
     "name": "stdout",
     "output_type": "stream",
     "text": [
      "[{'links': 'https://news.mail.ru/society/44201591/',\n",
      "  'name': 'В Москве начинается переход к массовой вакцинации от коронавируса',\n",
      "  'publication_date': '2020-11-18',\n",
      "  'source_name': ['ТАСС']},\n",
      " {'links': 'https://news.mail.ru/society/44206503/',\n",
      "  'name': 'Автоэксперт дал советы, как в Москве доехать на летней резине домой '\n",
      "          'в непогоду',\n",
      "  'publication_date': '2020-11-18',\n",
      "  'source_name': ['m24.ru']},\n",
      " {'links': 'https://news.mail.ru/society/44202492/',\n",
      "  'name': 'МГУ считает принятые для сохранения учебного процесса меры '\n",
      "          'исчерпывающими',\n",
      "  'publication_date': '2020-11-18',\n",
      "  'source_name': ['Коммерсантъ']},\n",
      " {'links': 'https://news.mail.ru/society/44206529/',\n",
      "  'name': 'Дептранс Москвы опроверг сообщения, что электробусы не работают '\n",
      "          'зимой',\n",
      "  'publication_date': '2020-11-18',\n",
      "  'source_name': ['ТАСС']},\n",
      " {'links': 'https://news.mail.ru/society/44198632/',\n",
      "  'name': 'В Москве выставили на продажу «квартиру фараона» за 150 миллионов '\n",
      "          'рублей',\n",
      "  'publication_date': '2020-11-18',\n",
      "  'source_name': ['Мослента']},\n",
      " {'links': 'https://news.mail.ru/society/44202140/',\n",
      "  'name': 'МЧС предупредило о ледяном дожде и гололедице в Москве',\n",
      "  'publication_date': '2020-11-18',\n",
      "  'source_name': ['Коммерсантъ']},\n",
      " {'links': 'https://news.mail.ru/incident/44203065/',\n",
      "  'name': 'В Москве задержали мужчину, устроившего стрельбу в Измайловском '\n",
      "          'парке',\n",
      "  'publication_date': '2020-11-18',\n",
      "  'source_name': ['ТАСС']},\n",
      " {'links': 'https://news.mail.ru/society/44200659/',\n",
      "  'name': 'Москву на фоне северного сияния показали из космоса',\n",
      "  'publication_date': '2020-11-18',\n",
      "  'source_name': ['Погода Mail.ru']},\n",
      " {'links': 'https://news.mail.ru/economics/43953764/',\n",
      "  'name': 'Интерактивный помощник готов помогать без больничных и выходных',\n",
      "  'publication_date': '2020-11-18',\n",
      "  'source_name': []}]\n"
     ]
    }
   ],
   "source": [
    "news_list = []\n",
    "for link in links:\n",
    "    main_link = link\n",
    "    response = requests.get(main_link, headers=headers)\n",
    "    dom = html.fromstring(response.text)\n",
    "    news_dict = {}\n",
    "    \n",
    "    name = dom.xpath(\"//h1[@class='hdr__inner']/text()\")\n",
    "    publication_date = dom.xpath(\"//span[@class='note__text breadcrumbs__text js-ago']/@datetime\")\n",
    "    source_name = dom.xpath(\"//span[@class='breadcrumbs__item']/span[@class='note']/a[@class='link color_gray breadcrumbs__link']/span[@class='link__text']/text()\")\n",
    "    \n",
    "    news_dict['source_name'] = source_name\n",
    "    news_dict['name'] = name[0]\n",
    "    news_dict['links'] = main_link\n",
    "    news_dict['publication_date'] = publication_date[0].split('T')[0]\n",
    "    \n",
    "    news_list.append(news_dict)\n",
    "pprint(news_list)\n",
    "    "
   ]
  },
  {
   "cell_type": "code",
   "execution_count": null,
   "metadata": {},
   "outputs": [],
   "source": [
    "client = MongoClient('127.0.0.1', 27017)\n",
    "db = client['Mail.ru_news']\n",
    "news_collection = db.news_collection\n",
    "news_collection.insert_many(news_list)"
   ]
  }
 ],
 "metadata": {
  "kernelspec": {
   "display_name": "Python 3",
   "language": "python",
   "name": "python3"
  },
  "language_info": {
   "codemirror_mode": {
    "name": "ipython",
    "version": 3
   },
   "file_extension": ".py",
   "mimetype": "text/x-python",
   "name": "python",
   "nbconvert_exporter": "python",
   "pygments_lexer": "ipython3",
   "version": "3.7.6"
  }
 },
 "nbformat": 4,
 "nbformat_minor": 4
}
