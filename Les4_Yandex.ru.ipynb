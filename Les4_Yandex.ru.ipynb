{
 "cells": [
  {
   "cell_type": "code",
   "execution_count": 1,
   "metadata": {},
   "outputs": [],
   "source": [
    "from lxml import html\n",
    "from pprint import pprint\n",
    "import requests\n",
    "from pymongo import MongoClient\n",
    "headers = {'User-Agent':'Mozilla/5.0 (Windows NT 10.0; Win64; x64) AppleWebKit/537.36 (KHTML, like Gecko) Chrome/86.0.4240.198 Safari/537.36'}"
   ]
  },
  {
   "cell_type": "code",
   "execution_count": 21,
   "metadata": {},
   "outputs": [],
   "source": [
    "main_link = 'https://yandex.ru/news/'\n",
    "response = requests.get(main_link, headers=headers)\n",
    "dom = html.fromstring(response.text)"
   ]
  },
  {
   "cell_type": "code",
   "execution_count": 58,
   "metadata": {},
   "outputs": [],
   "source": [
    "news = dom.xpath(\"//h2[@class='news-card__title']/../..\")"
   ]
  },
  {
   "cell_type": "code",
   "execution_count": 62,
   "metadata": {},
   "outputs": [
    {
     "name": "stdout",
     "output_type": "stream",
     "text": [
      "[{'links': 'https://yandex.ru/news/story/V_bolnice_v_Kommunarke_proizoshel_razryv_truby_s_kislorodom--bdd85ee38dccc12c24662b8b7433e6fe?lang=ru&rubric=index&wan=1&stid=RND6Ayd39sKexhzyVXST&t=1605716094&tt=true&persistent_id=119642514',\n",
      "  'name': 'В больнице в Коммунарке произошел разрыв трубы с кислородом',\n",
      "  'publication_time': '19:12',\n",
      "  'source_name': 'Коммерсантъ'},\n",
      " {'links': 'https://yandex.ru/news/story/Golikova_zayavila_ob_uvelichenii_pokazatelya_zabolevaemosti_COVID-19_v_Rossii--be1dedd5357ce2aa83ddec032a2fa7ba?lang=ru&rubric=index&wan=1&stid=q_9wV5-h-IH5x4YjwYdL&t=1605716094&tt=true&persistent_id=119623889',\n",
      "  'name': 'Голикова заявила об увеличении показателя заболеваемости COVID-19 в '\n",
      "          'России',\n",
      "  'publication_time': '19:02',\n",
      "  'source_name': 'Известия'},\n",
      " {'links': 'https://yandex.ru/news/story/Sovfed_dal_soglasie_na_zaderzhanie_byvshego_gubernatora_Mikhaila_Menya--a7669b10abb7fed2e7f9fbc3dbb61e05?lang=ru&rubric=index&wan=1&stid=0-7ZENWBdFhjNZMlho4d&t=1605716094&tt=true&persistent_id=119617867',\n",
      "  'name': 'Совфед дал согласие на задержание бывшего губернатора Михаила Меня',\n",
      "  'publication_time': '19:03',\n",
      "  'source_name': 'Газета.Ru'},\n",
      " {'links': 'https://yandex.ru/news/story/Putin_naznachil_Artema_Zdunova_vrio_glavy_Mordovii--d83cdadc69a99bbda105e655af8e8679?lang=ru&rubric=index&wan=1&stid=KbaLIK_pMG9SI3WJ0hGg&t=1605716094&tt=true&persistent_id=119626052',\n",
      "  'name': 'Путин назначил Артема Здунова врио главы Мордовии',\n",
      "  'publication_time': '19:09',\n",
      "  'source_name': 'BFM.ru'},\n",
      " {'links': 'https://yandex.ru/news/story/Naryshkin_obvinil_Zapad_v_provokaciyakh_dlya_sryva_dogovorennostej_v_Karabakhe--97391302c7e43cabe399b6f029afe953?lang=ru&rubric=index&wan=1&stid=GtbDLnH0BaSI4V3Yjkvl&t=1605716094&tt=true&persistent_id=119633022',\n",
      "  'name': 'Нарышкин обвинил Запад в провокациях для срыва договоренностей в '\n",
      "          'Карабахе',\n",
      "  'publication_time': '19:05',\n",
      "  'source_name': 'РБК'}]\n"
     ]
    }
   ],
   "source": [
    "news_list = []\n",
    "for n in news[:5]:\n",
    "    news_dict = {}\n",
    "    source_name = n.xpath(\".//span[@class='mg-card-source__source']/a/text()\")\n",
    "    name = n.xpath(\".//h2[@class='news-card__title']/text()\")\n",
    "    links = n.xpath(\".//h2[@class='news-card__title']/../@href\")\n",
    "    publication_time = n.xpath(\".//span[@class='mg-card-source__time']/text()\")\n",
    "    \n",
    "    news_dict['source_name'] = source_name[0]\n",
    "    news_dict['name'] = name[0]\n",
    "    news_dict['links'] = links[0]\n",
    "    news_dict['publication_time'] = publication_time[0]\n",
    "    \n",
    "    news_list.append(news_dict)\n",
    "pprint(news_list)"
   ]
  },
  {
   "cell_type": "code",
   "execution_count": null,
   "metadata": {},
   "outputs": [],
   "source": [
    "client = MongoClient('127.0.0.1', 27017)\n",
    "db = client['Yandex.ru_news']\n",
    "news_collection = db.news_collection\n",
    "news_collection.insert_many(news_list)"
   ]
  }
 ],
 "metadata": {
  "kernelspec": {
   "display_name": "Python 3",
   "language": "python",
   "name": "python3"
  },
  "language_info": {
   "codemirror_mode": {
    "name": "ipython",
    "version": 3
   },
   "file_extension": ".py",
   "mimetype": "text/x-python",
   "name": "python",
   "nbconvert_exporter": "python",
   "pygments_lexer": "ipython3",
   "version": "3.7.6"
  }
 },
 "nbformat": 4,
 "nbformat_minor": 4
}
